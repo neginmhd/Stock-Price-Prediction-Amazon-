{
  "cells": [
    {
      "cell_type": "code",
      "execution_count": null,
      "metadata": {
        "id": "wP2jq-xN3Xpa"
      },
      "outputs": [],
      "source": [
        "!pip install sktime\n",
        "!pip install pmdarima"
      ]
    },
    {
      "cell_type": "code",
      "execution_count": null,
      "metadata": {
        "id": "NG-tF_ur3Abv"
      },
      "outputs": [],
      "source": [
        "from pmdarima import auto_arima\n",
        "import numpy as np\n",
        "import pandas as pd\n",
        "import matplotlib.pyplot as plt\n",
        "from sklearn.metrics import mean_absolute_error"
      ]
    },
    {
      "cell_type": "code",
      "execution_count": null,
      "metadata": {
        "colab": {
          "base_uri": "https://localhost:8080/"
        },
        "id": "TfhhABb7Zx-C",
        "outputId": "9cd043dd-87e3-4c86-d588-d26e0fe9b4b7"
      },

    {
      "cell_type": "markdown",
      "metadata": {
        "id": "vy1-UvRf8TyY"
      },
      "source": [
        "## Finance dataset"
      ]
    },
    {
      "cell_type": "code",
      "execution_count": null,
      "metadata": {
        "id": "YSzDOhkR9hpo"
      },
      "outputs": [],
      "source": [
        "!pip install yfinance"
      ]
    },
    {
      "cell_type": "code",
      "execution_count": null,
      "metadata": {
        "id": "njOkH_7g8XgA"
      },
      "outputs": [],
      "source": [
        "# import the library\n",
        "import yfinance as yf"
      ]
    },
    {
      "cell_type": "code",
      "execution_count": null,
      "metadata": {
        "colab": {
          "base_uri": "https://localhost:8080/",
          "height": 238
        },
        "id": "pdQB2iNF8hKe",
        "outputId": "e18c27a5-34a4-40bc-bb5c-b40fd049cf8e"
      },
      "outputs": [
        {
          "data": {
            "text/html": [
              "\n",
              "  <div id=\"df-cfa31512-40da-4001-be92-10c62506b18d\">\n",
              "    <div class=\"colab-df-container\">\n",
              "      <div>\n",
              "<style scoped>\n",
              "    .dataframe tbody tr th:only-of-type {\n",
              "        vertical-align: middle;\n",
              "    }\n",
              "\n",
              "    .dataframe tbody tr th {\n",
              "        vertical-align: top;\n",
              "    }\n",
              "\n",
              "    .dataframe thead th {\n",
              "        text-align: right;\n",
              "    }\n",
              "</style>\n",
              "<table border=\"1\" class=\"dataframe\">\n",
              "  <thead>\n",
              "    <tr style=\"text-align: right;\">\n",
              "      <th></th>\n",
              "      <th>Open</th>\n",
              "      <th>High</th>\n",
              "      <th>Low</th>\n",
              "      <th>Close</th>\n",
              "      <th>Adj Close</th>\n",
              "      <th>Volume</th>\n",
              "    </tr>\n",
              "    <tr>\n",
              "      <th>Date</th>\n",
              "      <th></th>\n",
              "      <th></th>\n",
              "      <th></th>\n",
              "      <th></th>\n",
              "      <th></th>\n",
              "      <th></th>\n",
              "    </tr>\n",
              "  </thead>\n",
              "  <tbody>\n",
              "    <tr>\n",
              "      <th>2016-01-04</th>\n",
              "      <td>32.814499</td>\n",
              "      <td>32.886002</td>\n",
              "      <td>31.375500</td>\n",
              "      <td>31.849501</td>\n",
              "      <td>31.849501</td>\n",
              "      <td>186290000</td>\n",
              "    </tr>\n",
              "    <tr>\n",
              "      <th>2016-01-05</th>\n",
              "      <td>32.342999</td>\n",
              "      <td>32.345501</td>\n",
              "      <td>31.382500</td>\n",
              "      <td>31.689501</td>\n",
              "      <td>31.689501</td>\n",
              "      <td>116452000</td>\n",
              "    </tr>\n",
              "    <tr>\n",
              "      <th>2016-01-06</th>\n",
              "      <td>31.100000</td>\n",
              "      <td>31.989500</td>\n",
              "      <td>31.015499</td>\n",
              "      <td>31.632500</td>\n",
              "      <td>31.632500</td>\n",
              "      <td>106584000</td>\n",
              "    </tr>\n",
              "    <tr>\n",
              "      <th>2016-01-07</th>\n",
              "      <td>31.090000</td>\n",
              "      <td>31.500000</td>\n",
              "      <td>30.260500</td>\n",
              "      <td>30.396999</td>\n",
              "      <td>30.396999</td>\n",
              "      <td>141498000</td>\n",
              "    </tr>\n",
              "    <tr>\n",
              "      <th>2016-01-08</th>\n",
              "      <td>30.983000</td>\n",
              "      <td>31.207001</td>\n",
              "      <td>30.299999</td>\n",
              "      <td>30.352501</td>\n",
              "      <td>30.352501</td>\n",
              "      <td>110258000</td>\n",
              "    </tr>\n",
              "  </tbody>\n",
              "</table>\n",
              "</div>\n",
              "      <button class=\"colab-df-convert\" onclick=\"convertToInteractive('df-cfa31512-40da-4001-be92-10c62506b18d')\"\n",
              "              title=\"Convert this dataframe to an interactive table.\"\n",
              "              style=\"display:none;\">\n",
              "        \n",
              "  <svg xmlns=\"http://www.w3.org/2000/svg\" height=\"24px\"viewBox=\"0 0 24 24\"\n",
              "       width=\"24px\">\n",
              "    <path d=\"M0 0h24v24H0V0z\" fill=\"none\"/>\n",
              "    <path d=\"M18.56 5.44l.94 2.06.94-2.06 2.06-.94-2.06-.94-.94-2.06-.94 2.06-2.06.94zm-11 1L8.5 8.5l.94-2.06 2.06-.94-2.06-.94L8.5 2.5l-.94 2.06-2.06.94zm10 10l.94 2.06.94-2.06 2.06-.94-2.06-.94-.94-2.06-.94 2.06-2.06.94z\"/><path d=\"M17.41 7.96l-1.37-1.37c-.4-.4-.92-.59-1.43-.59-.52 0-1.04.2-1.43.59L10.3 9.45l-7.72 7.72c-.78.78-.78 2.05 0 2.83L4 21.41c.39.39.9.59 1.41.59.51 0 1.02-.2 1.41-.59l7.78-7.78 2.81-2.81c.8-.78.8-2.07 0-2.86zM5.41 20L4 18.59l7.72-7.72 1.47 1.35L5.41 20z\"/>\n",
              "  </svg>\n",
              "      </button>\n",
              "      \n",
              "  <style>\n",
              "    .colab-df-container {\n",
              "      display:flex;\n",
              "      flex-wrap:wrap;\n",
              "      gap: 12px;\n",
              "    }\n",
              "\n",
              "    .colab-df-convert {\n",
              "      background-color: #E8F0FE;\n",
              "      border: none;\n",
              "      border-radius: 50%;\n",
              "      cursor: pointer;\n",
              "      display: none;\n",
              "      fill: #1967D2;\n",
              "      height: 32px;\n",
              "      padding: 0 0 0 0;\n",
              "      width: 32px;\n",
              "    }\n",
              "\n",
              "    .colab-df-convert:hover {\n",
              "      background-color: #E2EBFA;\n",
              "      box-shadow: 0px 1px 2px rgba(60, 64, 67, 0.3), 0px 1px 3px 1px rgba(60, 64, 67, 0.15);\n",
              "      fill: #174EA6;\n",
              "    }\n",
              "\n",
              "    [theme=dark] .colab-df-convert {\n",
              "      background-color: #3B4455;\n",
              "      fill: #D2E3FC;\n",
              "    }\n",
              "\n",
              "    [theme=dark] .colab-df-convert:hover {\n",
              "      background-color: #434B5C;\n",
              "      box-shadow: 0px 1px 3px 1px rgba(0, 0, 0, 0.15);\n",
              "      filter: drop-shadow(0px 1px 2px rgba(0, 0, 0, 0.3));\n",
              "      fill: #FFFFFF;\n",
              "    }\n",
              "  </style>\n",
              "\n",
              "      <script>\n",
              "        const buttonEl =\n",
              "          document.querySelector('#df-cfa31512-40da-4001-be92-10c62506b18d button.colab-df-convert');\n",
              "        buttonEl.style.display =\n",
              "          google.colab.kernel.accessAllowed ? 'block' : 'none';\n",
              "\n",
              "        async function convertToInteractive(key) {\n",
              "          const element = document.querySelector('#df-cfa31512-40da-4001-be92-10c62506b18d');\n",
              "          const dataTable =\n",
              "            await google.colab.kernel.invokeFunction('convertToInteractive',\n",
              "                                                     [key], {});\n",
              "          if (!dataTable) return;\n",
              "\n",
              "          const docLinkHtml = 'Like what you see? Visit the ' +\n",
              "            '<a target=\"_blank\" href=https://colab.research.google.com/notebooks/data_table.ipynb>data table notebook</a>'\n",
              "            + ' to learn more about interactive tables.';\n",
              "          element.innerHTML = '';\n",
              "          dataTable['output_type'] = 'display_data';\n",
              "          await google.colab.output.renderOutput(dataTable, element);\n",
              "          const docLink = document.createElement('div');\n",
              "          docLink.innerHTML = docLinkHtml;\n",
              "          element.appendChild(docLink);\n",
              "        }\n",
              "      </script>\n",
              "    </div>\n",
              "  </div>\n",
              "  "
            ],
            "text/plain": [
              "                 Open       High        Low      Close  Adj Close     Volume\n",
              "Date                                                                        \n",
              "2016-01-04  32.814499  32.886002  31.375500  31.849501  31.849501  186290000\n",
              "2016-01-05  32.342999  32.345501  31.382500  31.689501  31.689501  116452000\n",
              "2016-01-06  31.100000  31.989500  31.015499  31.632500  31.632500  106584000\n",
              "2016-01-07  31.090000  31.500000  30.260500  30.396999  30.396999  141498000\n",
              "2016-01-08  30.983000  31.207001  30.299999  30.352501  30.352501  110258000"
            ]
          },
          "execution_count": 36,
          "metadata": {},
          "output_type": "execute_result"
        }
      ],
      "source": [
        "data =  yf.download(tickers=\"AMZN\", start=\"2016-1-1\",end=\"2020-12-31\",progress=False)\n",
        "data.head()"
      ]
    },
    {
      "cell_type": "code",
      "execution_count": null,
      "metadata": {
        "colab": {
          "base_uri": "https://localhost:8080/",
          "height": 286
        },
        "id": "-cQQAs7O8hyh",
        "outputId": "d20d6178-202b-4a5e-ddfc-70109864f205"
      },
      "outputs": [
        {
          "data": {
            "text/plain": [
              "<matplotlib.axes._subplots.AxesSubplot at 0x7fd97d1a1590>"
            ]
          },
          "execution_count": 37,
          "metadata": {},
          "output_type": "execute_result"
        },
        {
          "data": {
            "image/png": "iVBORw0KGgoAAAANSUhEUgAAAXcAAAD8CAYAAACMwORRAAAABHNCSVQICAgIfAhkiAAAAAlwSFlzAAALEgAACxIB0t1+/AAAADh0RVh0U29mdHdhcmUAbWF0cGxvdGxpYiB2ZXJzaW9uMy4yLjIsIGh0dHA6Ly9tYXRwbG90bGliLm9yZy+WH4yJAAAgAElEQVR4nO3dd3zU9f3A8dc7e5AEQsIMU/YQxYgo4kCKILairbbuWX+1aqtttWrraNVqh7a2tba4bR3VaosDUFRUVARB9pINCSvskJ279++P7/eOS3LZubvk8n4+HjzynZf3JyHv+9zn+xmiqhhjjIkuMZEOwBhjTMuz5G6MMVHIkrsxxkQhS+7GGBOFLLkbY0wUsuRujDFRKC7SAQBkZWVp3759Ix2GMca0KYsXL96rqtnBztWb3EXkGeBcYI+qjnCPHQf8HUgCKoEfqupCERHgMeAcoBi4SlW/qu979O3bl0WLFjW0PMYYYwAR2VrbuYY0yzwHTK527HfAr1T1OOAedx9gCjDQ/Xc98ERjgzXGGNN89SZ3Vf0E2F/9MJDubmcAO9zt84AX1PEF0FFEurdUsMYYYxqmqW3utwDvisgfcN4gTnGP9wS2B1yX5x7b2eQIjTHGNFpTe8vcANyqqr2AW4GnG/sCInK9iCwSkUUFBQVNDMMYY0wwTU3uVwJvuNuvAWPc7XygV8B1Oe6xGlR1uqrmqmpudnbQh73GGGOaqKnJfQdwurs9AVjvbr8JXCGOscAhVbUmGWNMVDhQVE5RWWWkw2iQhnSFfBk4A8gSkTzgXuD7wGMiEgeU4vSMAZiJ0w1yA05XyKtDELMxxkTE8ffPoVdmMvNunxDpUOpVb3JX1YtrOXVCkGsVuLG5QRljTGu1fX9JpENoEJt+wBhjGsDrbVsLG1lyN8aYBihsI23tPpbcjTGmAQ4VV9R5vrTCE6ZIGsaSuzHG1MPjVU77/dxaz+85XMqQu2fzzKebwxhV3Sy5G2NMPcoqj9bKs9MSa5zPP+g8ZH1tcV7YYqqPJXdjjKlHeaXXv52ZklDj/BG3PT62FWXUVhSKMca0TmUByb3C661x/kipk9zjYlpPSm09kRhjTCtVVnE0oQfW4n18PWniYyVsMdXHkrsxxtTD1+aemhBLhaf2mru2oq7wltyNMaYeJW43x/TkeCo8NTO4r829sLT19IW35G6MMXUorfDw6iJnmYouaYlUBGmW8SX3onLn6/6icvre8Q5zVu+u9XULCsvoe8c7zF27JwRRW3I3xpg6/W72Ov71xTYAuqYnURakWcZXYy8pd2r4+QecrpEPz1pT6+uuyD8IwDOfhaZvvCV3Y4ypw8aCI/7tId3TKa/0Ulktwftq7iUVHh6atYZrn/8SgNKKmm8EPr4Hs/Eh6j9pyd0YY+pQXH60HT0zJR6Aa59fVOUa39QDxeUe/vHxJvYUlgFQHqSW77P3SDkApw3MatF4fepN7iLyjIjsEZGV1Y7fLCJrRWSViPwu4PidIrJBRNaJyNmhCNoYY8JlaPd0AB65cBSdUp0BTB9/XXVp0LIg7fAQfL4Zr1fZsKeQPYVliMClY/u0cMSOhiyQ/RzwV+AF3wERORM4DxilqmUi0sU9Pgz4HjAc6AG8LyKDVLV1zahjjDH1qPR4WZF/iF6dUgCYNLwrS7cfrHFdeaW31knDgiX9uev2cO3zi0hNiCUzJSFkzTINWazjExHpW+3wDcDDqlrmXuN73Hse8Ip7fLOIbMBZX3V+i0VsjDFh8Lt31zH9k02cf3xPwGkbz0ytOvWA16sM+uUsAPplpbJ5b1GV84EDniY88hHdM5I4a0hXAIrKPfTKTAlZ/E19yxgEjBeRBSLysYic6B7vCWwPuC7PPWaMMa3aT/69lMfnbuC+N1dxsLicT9yml0MlzlS/wZJ7acCEYvuLymt97fW7C9lUUMRnG/aRnBDboHuaqyHNMrXdlwmMBU4EXhWR/o15ARG5Hnft1d69ezcxDGOMaRlvLMn3b3u86h9terikAhGIjRE6BUwapqoUuA9O4eibQDAXPPG5f3vWyl3+7T0B97e0ptbc84A31LEQ8AJZQD7QK+C6HPdYDao6XVVzVTU3Ozu7iWEYY0zLW7e7kHW7CwFYtPUAnd0ae1L80Vr35r1FXPLkAv/+xKFduOfcYUFfL3CJvk8CHsZOO65Hi8YdqKk19/8BZwJzRWQQkADsBd4EXhKRR3EeqA4EFrZEoMYYEypabVKYhZv3V9kP1nwy4ZGPq+wnxMVwzan9OFxawZ/eX+8/XlxeSYekOIrKjzbh5HRK5s2bTqVDYlNTcP0a0hXyZZwHooNFJE9ErgWeAfq73SNfAa50a/GrgFeB1cBs4EbrKWOMae3q6o8O8K9rT/JvnzOyW53XjumbWWV/2D3vsvtwGVed0pdrxvUDILdPJzJTE0iIC91Qo4b0lrm4llOX1XL9g8CDzQnKGGPCqaS87jroiJwM//bZw7sxc8WuGtcIznS/cbV0bUxNjGXPYaeNfWROx6aG2mA2QtUY0+4V15Pck+KOtrWfOqDqiNJjslMBp6kFnAevwfTomOxfou/43qFP7qFr8DHGmDaituSeGBdDWaW3yiIcnTskclFuDq8uctZLPXt4N47NyWCC2389rlpyv/LkPmSkJDB1ZHeSE2KZOKwro3t3ClFJjrLkboxp9752e8ZUN/uW01iy7QAiVRN2v6wO/u242Bgmj+ju369ecx/VqyMXjM7x74cjsYMld2OM4YcvfhX0eL+sVPplpdY4nhIwEKl6TT2u2lJ7EqGV96zN3RhjGilwlGn1mnpKfNU6c/+AWn44Wc3dGGMaKbDmnlitO2OvzGT/9rzbzwzp/DF1seRujDFBdE1PrPVcYHI/rlfVni8iwtSR3ck7WBKxxA6W3I0xhv7ZqcTHxPinHACY85PTa70+OaDpJbfaoCWAxy8d3bIBNoG1uRtj2r3C0kpG9zlaA9/80DmkJ8XXen1gzb21spq7MaZdU1UOFVeQkZzAOz86lZJyT42uj9X1zUplVK+OfO/EXnVeF0mW3I0x7VpJhYdyj5eOKfEM75FR/w1ARnI8M24cF+LImseaZYwx7ZpvHvaM5NqbYdoiS+7GmHbtYLEld2OMiTpFZZUApCVFVyu1JXdjTLtWUuFMGpYc3/p7wDRGQxbreEZE9rgLc1Q/91MRURHJcvdFRP4sIhtEZLmIRL6zpzHG1ME3I2RyG+je2BgNqbk/B0yuflBEegGTgG0Bh6fgLK03EGfx6yeaH6IxxoROaXutuavqJ8D+IKf+CNwOBC4+eB7wgrvk3hdARxHpHuReY4xpFdpzzb0GETkPyFfVZdVO9QS2B+znuceCvcb1IrJIRBYVFBQEu8QYY0LOt8Re9dkc27pGJ3cRSQHuAu5pzjdW1emqmququdnZ2c15KWOMaZINewpZvPUAAEkJ0dW/pClvVccA/YBl7hDdHOArERkD5AOB43Fz3GPGGNPqTHz0E/92Qi0LW7dVjS6Nqq5Q1S6q2ldV++I0vYxW1V3Am8AVbq+ZscAhVd3ZsiEbY0zLq28+mbamIV0hXwbmA4NFJE9Erq3j8pnAJmAD8CTwwxaJ0hhjTKPU2yyjqhfXc75vwLYCNzY/LGOMCS0nXUWv6GpkMsaYBtq2vzjSIYRUdPX9McaYBlqZfxiA/lmpnDKgc4SjaXmW3I0x7c6Mpfm8snA78bHCrFvGkxgXXQOYwJK7MaYd+vErSwEY0i0tKhM7WJu7MaYd65aRFOkQQsaSuzGmXQnsJdM5NTGCkYSWJXdjTLtSWuH1b2d1SIhgJKFlyd0Y064UlVf6t7PTrOZujDFRobjM498eNyArgpGEliV3Y0y74qu5J8TGMKRbWoSjCR1L7saYdqWgsAyA5645MeomCwtkyd0YE/W+3LKfCY98RFFZJSvyDwEwvEdGhKMKLUvuxpiotDL/EMu2HwTggXfWsKmgiGV5B/n9u+sAyEiOj2R4IWcjVI0xUencv3wKwJaHp/qPvbxwe22XR52GzOf+jIjsEZGVAcd+LyJrRWS5iPxXRDoGnLtTRDaIyDoROTtUgRtjTIO5A5feWrYDgL9fNjqS0YRFQ5plngMmVzs2BxihqscCXwN3AojIMOB7wHD3nr+JSHRO3GCMaTNSEo42Ulw8pheTR3SPYDTh0ZDFOj4Rkb7Vjr0XsPsF8B13+zzgFVUtAzaLyAZgDM5KTsYYE1Kqyl8/3EBxxdG+7A/PWsv8Tfv8+/kHSyMRWti1xAPVa4BZ7nZPILBRK889ZowxIbensIxH5nzNEx9t9B/7+8fO9uOXOE0xw3ukRyS2cGvWA1UR+QVQCbzYhHuvB64H6N27d3PCMMYYALx1LJ03tn8m824/k67p0TsTZKAm19xF5CrgXOBSPTrNWj7QK+CyHPdYDao6XVVzVTU3Ozu7qWEYY4xfWcCkYNVlpibQKzOFhLj20QO8SaUUkcnA7cC3VDVwIcI3ge+JSKKI9AMGAgubH6YxxtSv3BM8ud8ycWBUj0YNpt5mGRF5GTgDyBKRPOBenN4xicAc9wf2har+QFVXicirwGqc5pobVdUT/JWNMaZllVfWTO5nDM7mlomDIhBNZDWkt8zFQQ4/Xcf1DwIPNicoY4xpirJKpy45pm8mC7fsB2Bglw6RDCli2kfjkzGmXdhfVAHAXVOH+o9dMDonUuFElCV3Y0zU2FPo9GHvlp7E/dNG0D0jKaqn9a2LzS1jjIkavt4ySfExXD62D5eP7RPhiCLHau7GmKhR4faWaS/dHetiPwFjTNTwJff4WEtt9hMwxkQNX1fIuJj21ac9GEvuxpioUe5REuJi2t2ApWAsuRtjWr3SCg+zV+7k0ffW1XldhcdLgjXJANZbxhjTBkz4w0fsOOR0c7xpwsBaH5gWllaQmmhLSIDV3I0xrZyq+hM7wP6i8lqv3XuknKwOieEIq9Wz5G6MadV2Hqq6uEZReWWt1xYUlllyd1lyN8a0aut2FQLwf6f3B6CorPbkvvdIGdlpltzBkrsxppVb6yb3E/tkAnC4JHhyV1X2WbOMnyV3Y0yrtqngCF3TE+mXnQo4tfNgDpdUUu7xktUhIZzhtVqW3I1pAZUeb9C5xE3zeLzKa4vzKC73+JtbCgqDJ/ftB5x1g6xZxlFvcheRZ0Rkj4isDDiWKSJzRGS9+7WTe1xE5M8iskFElovI6FAGb0xrceE/5nPyQx9EOowW5fXWvh5puOS5CbuwtJK0xDgS42IoqKXmPn/jPgC6ZySHLb7WrCE19+eAydWO3QF8oKoDgQ/cfYApOEvrDcRZ/PqJlgnTmNZrT2EpS7YdZF9AF72P1u3h468LIhhV06kqo++fQ/+7ZrJw8/6IxrJ+9xEAfvvtkYgI2WmJ7K2l5n6g2Pn55/bpFLb4WrN6k7uqfgJU/w2fBzzvbj8PTAs4/oI6vgA6ikj3lgrWmNbozaU7/Ntrdh7G41WuevZLrnxmIXPX7YlgZE1zuKTS35f88qcX8OA7qyMWy31vrQKgf7azmlJ2WmKtNfddh0vpkZFEjM0rAzS9zb2rqu50t3cBXd3tnsD2gOvy3GM1iMj1IrJIRBYVFLTNGo4xAMvyDvm3pzw2j7eWVU32bc3eoqPJs6zSy5PzNkcsFt9UAr7aeGmFl3nr9/Lh2t2oVm022n24lK4ZSWGPsbVq9gNVdX7CjW6cU9XpqpqrqrnZ2dnNDcOYiCmu1u/6k4DmmD2Hg9cyw2334VIeeW8dpRX1r1cfrNnDE6H296T4WCYO7eKfCMz3ZnnNc4v495dOPbK0wsNDM9fw2YZ9dEu35O7T1OS+29fc4n71ffbMB3oFXJfjHjMmahWXV02Ybyw5+l/et+xbJM1Yms9Jv/mAv3y4gV+9VX8Ti+9ZwYPnj8DXwrGvKDJvUpVeb5W52e/95jD/9ua9RQCM/91c/vHJJgC6WnL3a2pyfxO40t2+EpgRcPwKt9fMWOBQQPONMVGltMKDqlJYVsH4gVk1JrOKj5VWUXO/Z8Yq//bXuwvrvHbZ9oP87aONnDWkC5eM6c3TV50IwIY9R0IaY20qPEpcQHLPTD3ah933KSSwa6Ql96Ma0hXyZWA+MFhE8kTkWuBh4Bsish6Y6O4DzAQ2ARuAJ4EfhiRqYyJs+/5ihtw9m7v+u5KV+Yc5oU8nlt0zqco1E4Z0YXeEa+5Hyio5VFLh39+w5wjvr95Npadqn/x56wvoe8c7nPf4Z8TFCI9edBwiwgl9OhEj8IXbzTDUNhYcYeu+Iv9+hcdLfMAD0sSAN9CDJRU1umva8npHNaS3zMWq2l1V41U1R1WfVtV9qnqWqg5U1Ymqut+9VlX1RlU9RlVHquqi0BfBmPBSVcb/bi4ALy/cBsDFY3qTnBDLfW6zwd8uHU2fzqnsPlxW48FfOB2oNoPioZIKrnthEdPnbapy/PnPt/i3K71KRko8AOlJ8YzM6cj8TaFP7q9+uZ2zHvmY03//EXPX7uH1xXmUV1ZtlglM3jOW7qjS/RRgVE5GyONsK2w+d2Maae+RqgnlpH6Z/uaAq8b146px/QDYd6SM8kovy/MOMapXx7DHCbB+j9MMc824fsTG4O/5sn1/if+aw6UVzFu/17//q28Nr/Iaw7qnMWf17pDGWVhawe2vL/fvX/3cl/7tuNijNfeE2KpztZ/44Pv+7TW/nkxygs3l7mOfYYxpoI/W7eGKZxb6ZylMTYilU0o8d54zNOj1Zw11egif9/hnYYvRR1XZX1TONc85H57vmDKEK07u6z//8sJtHCmrRFU59r73KKv08qOzBnL52D5ccXKfKq/VPSOZvUfKG9TTpqmufa72D/nJ8UcT9ph+mfz+O8fWuOal759kib0aq7kb0wAvLtjKL/7rzMAxqIszoGbubWfQJa32B3g9OjrD4NOTwv9n9v0XFvH+GqcT2x1ThpAQF+OPx2f6J5u4ZExv//5PvjEo6Gt1d/uO7zpUSt+sVP/xnYdKeGvZDrbvL+Fnkwb7m3KaYuEWZ5zkmYOz+fmUIUz+0zz/ueN7Hx1xmhAXw4W5vbjtP8ur3D+mb2aTv3e0spq7MQ3gS+wAT33qNG1kN2Bq2VMHZHG4tJKhd88O+cRixeWV7DhYwt4jZf7EPrhrGleP6wtAbLWRm3/+YD1PuW3vz1yVW+vr+t4UzvjDR1w8/QveXLaDHQdLuO/NVfxm5lr++cVWRv36vQbX7IvLK9lXbZSp7w3wtrOHMKRbOlsenkrXdOfne2wD2tHjbN3UGqzmbkw9Zq2o2Zv3tEHZ/oE1dYl324tLKjwcLCmvs6bfXJc/vZDFWw9w6oAswOmnfulJVZtYpo7szsaCI/450p/+zHmjGtQ1rdbX7RlQ45+/aR/zN+1DxHmIHOiNr/K55KTe1W/nUHEFS7Yf4HT3Z3b9C4v5dMNeNv7mHGJjBK9XOVJWyU1nDmBYj3T/fS9eN5ZXF22v8v194mOFCo/zoPrmCQPq/Lm0V/Z2Z0w9Fm89UOPYLRMHNvp13l62M6Q9Z3xxfrFpH8nxsTUSO8Djl45m9i2n8exVJ9IjIwlVJ1H2qGMmxZxONc+pwoJN++idmeL/WQT2oT9cWsHri/PYe6SMG15czFXPfun/NPHpBufh7fyN+ygqq6T/XTPxas1ujAO6dOCuc4YGnStm0rBu/m2b4jc4S+7G1GNPYRl9Oqfw1d3f8B/LCVKbDGbuuqNTEfz67dX8a8G2GtdsLDjCh2tbrjdKpVe5f9qIOq85c0gX/+IX6UnxdU62VVuTx8aCIs4a2oVbJg7i1AFZPPf5Fn/TzGVPLeCnry0j94H3+dztI//9FxaxdPtB/6jXFxds5b8Bo3lPbES7+W8uGOnfTrAmmaDsp2JMNarqn0ccnHlZuqQlkpmawOs3nMzPJg1qcG0xrlrSfP7zLby1bAcLAvqNn/XIx/5eLS3lrCFd6r0mM9UpQ4dmPPD9+eQhAPTpnALAQzPXALA8YDI1gOtOdbqHTnv8M38tfdbKXTw8ay0AS+/5Bicf07nB3zewB40NXArOfirGVPPywu2c+tu5rMw/RHmllw17jpDTyUleJ/TJ5KYJAxvU3g7UqBGXVXq4+eUlfHf6Fy0as2/Eabf0JN750al0Sq1/qblu7gPLzAZc+/kdE3jv1tN4+IKRDOnmtM//78ZxJLlJ1vew+Pn5W/n7xxur3HvHlCH8YmrV7qJnD3eaVY6UVXL/tBF0TGnc0njxAX3f463mHpQ9UDUmwO7Dpdz13xUArNtVyI6DJewrKmfSsK713Blccnws5ZVezhyczdx1BVRUNr3NfcveIryq/rnNAy3ZfhCAe745jOE9GjZK07eQdC/3jasuvh4zg7qmcfbwbpRUeKp0rbzt7MG8tjgPwF8bv3/aCC4fe7Td/4FpI/jl/5xeR3dMGcJby3YwqGsHLsrNaVC8gQLfXL0RHAHcmllyN8bl8Sp/m7vBv//T15b5t89sQDNHMDdPGMAD76zxN4FUeGrvDlnh8QathXq8Sow4XREBtjw8tcb5eV8XEBsjjHN7yjSEb56WtEY2y3RKTaD6Wkdd0pO495vDqsw6eVm1njOXje3DRbm9qPB4SU2Mq1GOpiosraz/onbIkrsxriueWcBnG/aREBuDov6udjmdkv3ND4113fj+XDe+P/e96czMGDg9sMerVfqG/3HO19zutmH7VHq8DLl7tr+venWzV+7iZ68t44g7p3xGcsMHEvkGHSU3sWzVXT2uHyN6ZvDHOV9zxcl9gjZdJcTFtHgb+eHSivovaoesscoY12cbnIecd0wZ4k/sAK/fcEqzX9s3gKgkIJkXFJb5F5wA+HDtnhpdJedt2EulV2tdDen+t1f7E3tjnXtsD26dOIgfN6FbZ21O7JvJS98fy+QR4Vtd87u5veq/qB2y5G4MsL+oHBH4wenHcM2p/fzJ+OIxvVtkjvARPdNrHNtxyBlN6rN2V6G/vRrg8w17ufrZL2vc98L8Lf7t3YePTin81BW1jzINJj42hh9PHEhaUtOnDYikf1x+Au//5DQ6N2CkcHvUrOQuIreKyCoRWSkiL4tIkoj0E5EFIrJBRP4tIo17DG5MBLyzYieqcN5xPQBYfu8krj+tP/ecO6yeOxtm2nE1lxLecbCElGqTXc0IWGz75S+3V78FcBbf+PVbq5m5YieVAfOZn9ivfc2vcvbwbgzoUvvI2vauycldRHoCPwJyVXUEEAt8D/gt8EdVHQAcAK5tiUCNCRWvV3l9cR79s1IZ2t2pYacmxnHXOUNbbKZBESGrQ9V6zr0zVlFW6SWwaXpUr6M9XQ4WV51aONAzn23mhy9+VeVYY9rbTfRrbrNMHJAsInFACrATmAD8xz3/PDCtmd/DmEZZvHU/hfU8ZPvfknz63vEOj7y3jttfX87S7QeZPKJbnfc0l++h7PiBTo+WfUXllFV6SYyL4d1bTqNnx2QCO9NsKnBWJBrYpQOv33By0Nec+aPx3DFlCLdPHhzS2E3b0+TeMqqaLyJ/ALYBJcB7wGLgoKr6nvDkATU/jwIicj1wPUDv3jUnGzKmKTbsKeTbT8wHavaz9tlUcIRb/r0UgL986HR9PL53R26tZcrbluLrlTJ1ZHf/4hhLth0gPiaGwd3S6JaRRHG586dTWFpB/sESbp88mB+eMaBK27rPivsmkZYUX2WyLWN8mtMs0wk4D+gH9ABSgckNvV9Vp6tqrqrmZmdnNzUMY6r435KjbdZ3/29ljd4na3cdZsIjH9e477ZJg0M+0tHXxJOcEMtfLzkegC+3HKDcra5nd0j0J3HfgtQD3TblrulJvH7Dycz80XguOL4nb910apt9EGrCozn/mycCm1W1QFUrgDeAcUBHt5kGIAfIr+0FjGlp2wPmhAH46atHByL96q1VVRaBWH7fJK46pS+v33AypzRi8E9T+ZplUhLiqozu9A3F79kpmY0FRew8VOJf1DpwaoAT+mQyrEc6j373OEbaWqGmHs1J7tuAsSKSIs5ohbOA1cBc4DvuNVcCM5oXojENo6os3LyfiUOPjiZ9I2DWwWc/2+LfXnL3N0hPiue+bw3nhD7h6WXi6xmjqlXmKPdNuuV7TnD1s1/652dpqQFGpv1pcnJX1QU4D06/Ala4rzUd+DnwExHZAHQGnm6BOI2p0+KtB+h350x2HirlrKFdefD8uqe8TUkMf9L0tf/3z+7gn9cFoJu7jF03d071XYdL+WKTs+xcUrwNRTFN06z/Oap6r6oOUdURqnq5qpap6iZVHaOqA1T1QlUtq/+VjGme2/5ztPll4tCuZAaZZTBw+t3EuPAn97OGdmXDg1MY0KVDlSXvfG3nPzi9P1C1T7xNiWWayqoFps0rKfeQt78EgB4ZSWSnJTKwa9WZE1W1VSTKwIUvfG82pw90OhSkJMTRKSWejQVH/Nc0ZMZGY4KxicNMm6aqPPDOaso9Xh66YCTfHOWMMB3QJY0fTRjAnz/cQHmll3KPF4+3NaT3o9bc73QuC+ylk5IQ5+8m+fkdE2whCtNkltxNm/T64jzyDpTQs1MyL7pL151/fM8qszemuyM2r3hmAR0Sj/5X9z3AjLRgXS8D4+zRwKX8jAnGkrtpkwLnWge4ffLgGtPyfvy1s36p7+EkwCMXjmLi0KYtvBEOqe6D3tYco2kb7DOfaXMC50D3uSzISNQ7pwytcey843r45zFvjVLdmnt6stW7TPNYcjdtzssLt1XZ75AYR3qQ0ZrVh+V/+NPTqzzQbI1SE+KqfDWmqVr3/3RjgljmrhfqU322xWB+OXVo0LVHWxtfzb36VMDGNJYld9Pm/G/pDtKT4pjizuJY14PHk9w5zq88pW84Qmu2zFTnE0hgP3hjmsI++5k2ZX+RM8e5qrOk26yVu+rsC/7UlbnsOFga8knBWsqIns6cMWt3FUY4EtPWWXI3bcr+ImfA873fGk4Pd9j+aYNqn1U0LSmewd1a7wPU6s4Y1IXk+FiuOLnmA2JjGsOSu2kz8g+W8PpXzkRg/bJSOKFPJvNuP5Nema2j33pLyEiJ9w9uMqY5LLmbNuPCJz5nxyFnvvORPTsCRFViN6YltY2GSNPuVXq8/sT+f6f3t2H5xtTDau6mTdhd6FtwDs0AABVfSURBVLS1P3TBSC4eY8syGlOfZlV/RKSjiPxHRNaKyBoROVlEMkVkjoisd792aqlgTfv1xcZ9APSxZhhjGqS5n20fA2ar6hBgFLAGuAP4QFUHAh+4+8Y0WaXHyyPvrWNEz3TG9u8c6XCMaROas0B2BnAa7kpLqlquqgdxFs1+3r3seWBac4M07dvaXYXsOFTK98f3J8YG9xjTIM2pufcDCoBnRWSJiDwlIqlAV1Xd6V6zC7Dp7UyDPDVvE9c89yWV7tzrz322mY0FR3jJnUtmdG9r4TOmoZrzQDUOGA3crKoLROQxqjXBqKqKSNAVEkTkeuB6gN697QFZe1dQWMYD76wBYPaqXby3ajdvLtvhPy8COZ1sfnNjGqo5Nfc8IM9dKBucxbJHA7tFpDuA+3VPsJtVdbqq5qpqbnZ27SMMTfuwcsch//ZNLy2pktgBHpg2AhFrkjGmoZpcc1fVXSKyXUQGq+o64CxgtfvvSuBh9+uMFonURKUjZZUs3nqA/3thcZXjPTsm8+J1JxEXK6QmxNEptf6ZH40xRzW3n/vNwIsikgBsAq7G+TTwqohcC2wFLmrm9zBRyutVLn3yC5blObX2Dolx3HDGMfz+3XU8e/WJ9M1KjXCExrRdzUruqroUyA1y6qzmvK6Jfou37ufbT8yvcuyBaSP45qgefGtUD5tWwJhmshGqJiJ+/+46//bmh86p0p5uid2Y5rMJOkxElFd6AXjxupPsQakxIWDJ3TRJaYWHf87f4k/SjVXhUc4cnM24AVktG5gxBrBmGdNEv3prFS8v3I7Hq1w1rl+j76/weNvM6kjGtEX212WC8niVCk/wWvk/v9jKywu3A3CwpKJJr1/h8RJv0/YaEzL212WqqPR4eWvZDo65ayYDfzGL7fuLueP15cxY6qyA9OQnm7j7fysBSIiLYdaKXXi9QQchM3fdHorLK/37pRUefvbaMib98WMOFlcQb/PEGBMy1ixjqnho1lqe/nSzf3/87+YC8MqX21med8h/7sXrTuL+t1ezdlch/e+ayaUn9ebmCQPplpHE6h2HOVhcztXPfskpx3Tmpe+PJf9gCeMe/rDK97JmGWNCx/66DOCMFH3io428tGAbw7qn8/fLTqhxjS+xP3NVLuMGZPHbbx/rP/figm2c9ru5/PmD9Zzz53lc8pQzK8XnG/fx0oJtvLRgKwCThh2dR86jwWv8xpjms+Tezm3bV8yMpfmMuPddfjt7LSUVHh773nGcPbwr2WmJAPzhwlEM6Zbmv2fCECdBj+rVkS0PT/UfL/d4eXTO1/79Yd3TAbjrvyt4fO5Gsjok8I/LT+APF44C4FujeoS8fMa0V6KtoPaUm5urixYtinQY7dL5f/uMJdsO+veHdU9n5o/HA85D1cMlFXRMiaewrJI731jBzRMGMKRbepXX+OTrAvYXlXPXf1dQXO5hbP9MXrjmJOJjhdcW53H7f5YD8K9rT+LUgdb10ZiWIiKLVTXYLAHW5t7elFZ4SIiNISZG2Ly3yJ/Yf/ftYzmpfyZd0pL818bGiH/CrvSkeB6/ZHTQ1zxtkDOr53nH9WB53iH6ZqX6F7D+9ugcdhwsYfzALE7okxnKohljAlhyb0cKCss48cH3AeiUEs+B4gpiBD79+QR6dGz+XOkiwqheHasci40Rbpk4qNmvbYxpHGtzb0cemrnGv32g2Omf/o/Lc1sksRtjWheruUchVa0yX0ulx8vuwjLeWJLPxKFdGTegM9v2F3PPucNsXhdjopQl9wio8HiZv3Efw3uk07lDYrNfz+tVvKrExcYwY2k+d7y+gpIKD3ExQo+OyWzbX+y/9vrT+jOmn7V9GxPtmp3cRSQWWATkq+q5ItIPeAXoDCwGLlfV8uZ+n2ixeOsBvv3E5/79p67I5YF3VvOb80dyShMm0frjnK957IP1AFxxch9emL/Vf67Sq1Um9urZMZnjqrWJG2OiU0vU3H8MrAF8/eN+C/xRVV8Rkb8D1wJPtMD3iQovLthaZf+6F5wuoE98vLFRyf2f87fw+cZ9zFq5y3/shflbGds/kyevyCU+NoaE2BhEnBkY9xSW0iMjmRgb8m9Mu9CsB6oikgNMBZ5y9wWYgLNYNsDzwLTmfI9oUFbpAeDt5Tt446t8RuVksOXhqfz1kuP912wqKEJVaci4g1krdnL3jFXMWrmL+Fjh9smDAUhLjOPJK3JJS4onKT6WmBhBREiIiyGnU4oldmPakebW3P8E3A74hi92Bg6qqm+2qDygZ7AbReR64HqA3r17NzOM1kNVKS73kJoYh9erzF61i1v+vZTLx/bxD9+/8cwBAJx7bA/OGtKV706fz/K8Q/S7cyaTh3fj6nF9uf315Tx0wUhO7t+Z3YfLSE2MpUNiHGWVXu6e4Uzc9cC0EYzpl8mgrmlMGdGd+FghLSk+YmU3xrQeTU7uInIusEdVF4vIGY29X1WnA9PBGaHa1DgiyalpQ0yM1FgTNCUhluJyj3/fl9hvO3swk4Z38x9PTohl0rCuLHcXiZ69ahdb9hWxdV8xP/jnYjJS4tm+v6TG975jyhAuG9vHv9/PFpM2xgRoTs19HPAtETkHSMJpc38M6CgicW7tPQfIb36Yrc+h4gq+8/fP6ZAUx7hjsvjr3A3+cyN7ZrAi30nWpw3K5nBJBUu3H+Si3BxuOP2YGq9145kDeHv5TtbuKgRg7a5CLji+J28syedwaWWN6wEGde0QglIZY6JFk5O7qt4J3Ang1tx/pqqXishrwHdwesxcCcxogTgjpqCwjEfeW4cq/HzKEOJihcLSSr77j/nkHXBq1L4h/BOHduE354+kS3oS63cXIiIM6NIBVcWrzmjNYESEN286ld+/u5Yn5zk1/Hu/OZzF2w4QK8J7t57GgeIKsjok8Kf319MpJZ4zBnUJzw/AGNMmtcjEYQHJ/VwR6Y+T2DOBJcBlqlpW1/2tbeKwG1/6irU7D/PTSYP54Ytf1XrdiX078a1RPeiUmsD+onK+c0IOKQlN/zDk8SrH3DUTgC0PT6W0wkO5x0u6taMbY4Koa+IwmxWymqKySobf+26VYz8+ayAJcTH8/t11/mODunbgvVtPb/Hvv2bnYSo8Xo7Nsf7oxpi62ayQDTRjaT4/fmUp4Eys1TElgXvOHcaZQ5wmkCtP6cvnG/Zy00tLuO3sISGJYWj39PovMsaYelhyD+BL7AAf3XYmGclVm0M6JMYxaXg31t4/2fqMG2NatTY9K2Slx8v7q3dXORa4IHNDVXi8lFd6iY91EvYD00bUSOyBLLEbY1q7Np3cX1ucx3UvLOK5zzajqry5bAfD7nmXr3cXNvg19heVM/AXsxj0y1lUeJSfTRpUpf+4Mca0RW06uV+U2wuA+95azXOfb2HWip0ArN5xuEH3Hy6t4Kl5m6ocC5xoyxhj2qo23eYeGyNMPbY77yzfya/eWu0/7q2nB1BZpYfBv5zt3z+5f2cuHdubm15aQseUhJDFa4wx4dKmkzvA45eM5p3l71Q5tnT7QS4YnePff3jWWpZuP8C043qyeOsBXlucV+X6X547lOE9MhjUNc2G8RtjokKbT+4A3xrVgzeX7aBnx2S8qsxeuYtfnzeCknIPt/57KbNXOdPifrFpv/+e/lmpvHDtGLLTEkmMiwVgUNe0oK9vjDFtTVQk9z999zjunzaCDolxPD53A4/O+ZrDpRW8tGCbP7EP6tqBjskJLNyyn6T4GP5747g6e8QYY0xbFhXJPSZG/Ik6Ic55Rvzsp1v44/tfA/DJbWfSvWMS8bEx7DlcSmJcrCV2Y0xUa9O9ZYK5YLQzffxfPnSWnpt6bHd6d04hPtYpapf0JDJSLLEbY6Jb1CX37A6JxMcKlV7l/ON78vgloyMdkjHGhF3UJXcR4brx/QG4eEz0rPBkjDGNERVt7tXdNmkw54zozsicjEiHYowxEdHkmruI9BKRuSKyWkRWiciP3eOZIjJHRNa7Xzu1XLgNExMjltiNMe1ac5plKoGfquowYCxwo4gMA+4APlDVgcAH7r4xxpgwanJyV9WdqvqVu10IrAF6AucBz7uXPQ9Ma26QxhhjGqdFHqiKSF/geGAB0FVVd7qndgFda7nnehFZJCKLCgoKWiIMY4wxrmYndxHpALwO3KKqVaZjVGcNv6CzeKnqdFXNVdXc7Ozs5oZhjDEmQLOSu4jE4yT2F1X1DffwbhHp7p7vDuxpXojGGGMaqzm9ZQR4Glijqo8GnHoTuNLdvhKY0fTwjDHGNIVoPXOf13qjyKnAPGAF4Fvh4i6cdvdXgd7AVuAiVd0f9EWOvlaBe21TZAF7m3hvW2Vlbh+szO1Dc8rcR1WDtms3Obm3FiKySFVzIx1HOFmZ2wcrc/sQqjJH3fQDxhhjLLkbY0xUiobkPj3SAUSAlbl9sDK3DyEpc5tvczfGGFNTNNTcjTHGVGPJ3RhjopAld9NquAPjjDEtoE0kdxEZLiJJkY4jnERknIgcE+k4wiw50gGEm4jEul/bzRtbeywzgIiENd+26uQuIseKyKfAA0DnSMcTDiIyWkTeAz4E2sWKIyIyVkReBx4XkUm+P/5oJiIni8iTwK0ikqbtoGeDW2F5HviliGS2kzKPEZEfAaiqt77rW1KrTu7AL4H/qOr5qpoP0ftuLyLxIvIPnG5RfwbeBc5wz7X231OTicgZwN+AN4B1wGVA2FfvCicROR34K84beA/gLhE5O7JRhZaI9Mf5Pc8F+gD3i8jUyEYVWiJyC/BfnDezKe6xsFVcWmXSEJEY9z/DEVX9k3vsGyLSEYjWj3SJwMfAeFV9G2e2zaEiEhfud/wwGwl8qaovAv8E4oEjkQ0p5EYDn6nqy8D9OGsefE9EukU2rJA6EWeSweeAnwJLgXNFpFdEowqtTcC5wA3AnQCq6glX7mo1yd39aD4I/B9f9gLjRWSqiPwP+BlOjfY295o2/5EusMxAkaq+pKol7n4c4FHVymiquVcrMziTz10oIvcAXwHdgb+JyIURCTAEgpT5a6CjiHRX1QM4b2YJRNGqZSLyTRG5SUTGuoe+BHqJSC+3zJ8BB4ELIhZkCwtS5neA5e7XI77mGdwKaqhFPGmISEcReQeYA1wkIqkA7sIfz+LUbJ5R1bOBp4CxAT+8NilYmVVVxeH7nXwMnC8inaKh5h6kzB0AVHUpMBnoC/xQVc/A+cOfLCJDIxRui6itzDjJ/TDwvPusoRewBOjg3tdmP5WKSHcReQu4Had57VkROVtVNwHzgYvcS9cBq4HMtt5Zoo4yewCvqpYCjwDXikiWqlaGI66IJ3cgFad9+WZ3+7SAc2/j/NH72mAXAbuBsjDGFwpBy6wOr5vgt7jXnB6pIFtY9TKP951Q1YVANk6ZwWmLTgOKwhtii6vt97we+AnwEPCaqp4PrMJ9xtLGP5XmAvNUdbyq3g88BnzfPTcPGCkiY9zElw+Mc5NfW1a9zH8CfgBVfpcfAV/g/F9ARMaEOqiIJHcRuUJETheRdPdB6XScOeBLgZNEpCeAqi7HaYa5SUSycB62jQD2RSLu5mhAmXu414lbU090by31HY9E3M3RiDInAp8DN7q3noXTO6rN/dHXU+YxvjKrarmqzlXVV9xbTwBmRybq5nHLfIb7e/wA59mJzz5gvbu9AOcTyh/dTzHDgW0ikhLWgFtAPWXeD6xxr4sBp60dp9ffz0XkEDA61H/TYUvubpNDdxGZi7NC06XAE+7HlFJVLQbex6mlT/Ddp6pPAy8D9wHfBq5T1W3hirs5mlJmt3kmVlWLcH4/Y33HI1OKxmlkmc8CUNUynBW8OojIJ8DFwE2q2iaWaGzq/2333lNFZDHOJ5m3wx17UwUp8yXAM0CKqu4UZwlOcJ6hdAJQ1V2q+hhOkn8Gp7L2W/fn0+o1scxe974BwEs4TY6nqurfQ/43raoh/wfEul8HAf/yHQP+ArxR7dpbcd7hMoC0gOPx4Yi1FZQ5JeB4QqTLEYYydwSS3WPJQP9IlyNMv+dU91gP4JxIl6OlyxxwzVvARHe7i/s1LvBvuy38a0aZM31lB84MZ8whrbmLSKyI/Ab4jTh9ewcDHvB/TPkxcIp7zudJnAdLc4ANAR9jK0IZa0tpgTJvDvzoHtbgm6gFyrxFRHqqaok6D95avRYo8yYRyVHVHao6M8zhN0ljyqxOl78EoAD4WkQeBOaI00GgUlULI1WOxmiBMs8VZ8DWHlWdG87YQ5bc3R/EYpyPJxtwer1UAGf6Hiao07Z8n/vPZyrwQ2AZMFJVd4QqxpZmZW5SmZfilDk/fFE3Twv+nvPCF3XzNLLMv3JvSwKuwmmTTsOpzR4Ia+DN0IJlrnMN6ZAJ4ceY8cDlAft/w+nMfxWw2D0WA3TDeeDU1z12HnBapD+GWZmtzFbmZpU5BxgDvAAcF+n422OZQ9kssxh4VY4Ot/0M6K3OCLVYEblZnXe9HJzBOlsAVHWGqn4SwrhCycpsZbYyO32781R1oapeoc5YhraoTZc5ZMldVYtVtUyddimAb+C0RQFcjTO0/m2cnjBfQdvs7hfIygxYma3MTlK0MkdYXKi/gfuupzjzZ7zpHi4E7sLps75Z3fZWdT/ntHVWZiszVmYrc4SFo5+7F2cyqL3Ase473d04H2M+1Tb0IK0RrMxWZitz9GiTZQ7LAtnizAXzufvvWXUGJkU1K7OVOVpZmdtGmcOV3HOAy4FH1RmNGPWszFbmaGVlbhtlDktyN8YYE16tYVZIY4wxLcySuzHGRCFL7sYYE4UsuRtjTBSy5G7aJRHxiMhSEVklIstE5KdSz1q1ItJXRC4JV4zGNIcld9Nelajqcao6HGdY+RTg3nru6YuzQIMxrZ51hTTtkogcUdUOAfv9gS+BLKAPzrJpqe7pm1T1cxH5AhgKbAaeB/4MPIyz9mki8Liq/iNshTCmDpbcTbtUPbm7xw7iLMZQiLtqvYgMBF5W1VwROQP4maqe615/Pc7qQg+Is5bmZ8CFqro5rIUxJoiQTxxmTBsUD/xVRI7DWXVnUC3XTcKZa+Q77n4GMBCnZm9MRFlyNwZ/s4wH2IPT9r4bGIXzXKq0ttuAm1X13bAEaUwj2ANV0+6JSDbwd+Cv7pStGcBOdyGGy3EWQganuSYt4NZ3gRvEXfVeRAaJSCrGtAJWczftVbKILMVpgqnEeYD6qHvub8DrInIFMBsoco8vBzwisgx4DngMpwfNV+4iDQXAtHAVwJi62ANVY4yJQtYsY4wxUciSuzHGRCFL7sYYE4UsuRtjTBSy5G6MMVHIkrsxxkQhS+7GGBOFLLkbY0wU+n85o9WnKrl1CAAAAABJRU5ErkJggg==",
            "text/plain": [
              "<Figure size 432x288 with 1 Axes>"
            ]
          },
          "metadata": {
            "needs_background": "light"
          },
          "output_type": "display_data"
        }
      ],
      "source": [
        "data['Close'].plot()"
      ]
    },
    {
      "cell_type": "code",
      "execution_count": null,
      "metadata": {
        "id": "3d1TFiQD-BU6"
      },
      "outputs": [],
      "source": [
        "train = data.iloc[:-60]['Close']\n",
        "test = data.iloc[-60:]['Close']"
      ]
    },
    {
      "cell_type": "code",
      "execution_count": null,
      "metadata": {
        "id": "GL0Ai8FEEw81"
      },
      "outputs": [],
      "source": [
        "model = auto_arima(train,  m=7, seasonal=True,\n",
        "                      start_p=0, start_q=0, max_order=4, \n",
        "                      test='adf',error_action='ignore',  \n",
        "                      suppress_warnings=True,\n",
        "                      stepwise=True, trace=True)\n",
        "\n",
        "preds = model.predict(len(test))\n",
        "print(f\"MAE: {mean_absolute_error(test.values, preds)}\")"
      ]
    },
    {
      "cell_type": "code",
      "execution_count": null,
      "metadata": {
        "colab": {
          "base_uri": "https://localhost:8080/",
          "height": 282
        },
        "id": "oQaeFV9GiAXU",
        "outputId": "401075bb-5b2a-420e-9279-73b3646f551b"
      },
      "outputs": [
        {
          "data": {
            "text/plain": [
              "<matplotlib.legend.Legend at 0x7fd97cf9fdd0>"
            ]
          },
          "execution_count": 40,
          "metadata": {},
          "output_type": "execute_result"
        },
        {
          "data": {
            "image/png": "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",
            "text/plain": [
              "<Figure size 432x288 with 1 Axes>"
            ]
          },
          "metadata": {
            "needs_background": "light"
          },
          "output_type": "display_data"
        }
      ],
      "source": [
        "true, = plt.plot(test.values)\n",
        "pred, = plt.plot(preds.values)\n",
        "plt.legend([true, pred], ['Real', 'Prediction'])"
      ]
    }
  ],
  "metadata": {
    "colab": {
      "collapsed_sections": [],
      "provenance": []
    },
    "kernelspec": {
      "display_name": "Python 3",
      "name": "python3"
    },
    "language_info": {
      "name": "python"
    }
  },
  "nbformat": 4,
  "nbformat_minor": 0
}
